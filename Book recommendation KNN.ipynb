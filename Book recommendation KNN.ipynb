{
  "nbformat": 4,
  "nbformat_minor": 0,
  "metadata": {
    "kernelspec": {
      "display_name": "Python 3",
      "language": "python",
      "name": "python3"
    },
    "language_info": {
      "codemirror_mode": {
        "name": "ipython",
        "version": 3
      },
      "file_extension": ".py",
      "mimetype": "text/x-python",
      "name": "python",
      "nbconvert_exporter": "python",
      "pygments_lexer": "ipython3",
      "version": "3.8.3-final"
    },
    "colab": {
      "name": "fcc_book_recommendation_knn.ipynb",
      "provenance": [],
      "collapsed_sections": []
    }
  },
  "cells": [
    {
      "cell_type": "markdown",
      "metadata": {
        "id": "uGd4NYQX1Rf_",
        "colab_type": "text"
      },
      "source": [
        "In this challenge, you will create a book recommendation algorithm using **K-Nearest Neighbors**.\n",
        "\n",
        "You will use the [Book-Crossings dataset](http://www2.informatik.uni-freiburg.de/~cziegler/BX/). This dataset contains 1.1 million ratings (scale of 1-10) of 270,000 books by 90,000 users. \n",
        "\n",
        "After importing and cleaning the data, use `NearestNeighbors` from `sklearn.neighbors` to develop a model that shows books that are similar to a given book. The Nearest Neighbors algorithm measures distance to determine the “closeness” of instances.\n",
        "\n",
        "Create a function named `get_recommends` that takes a book title (from the dataset) as an argument and returns a list of 5 similar books with their distances from the book argument.\n",
        "\n",
        "This code:\n",
        "\n",
        "`get_recommends(\"The Queen of the Damned (Vampire Chronicles (Paperback))\")`\n",
        "\n",
        "should return:\n",
        "\n",
        "```\n",
        "[\n",
        "  'The Queen of the Damned (Vampire Chronicles (Paperback))',\n",
        "  [\n",
        "    ['Catch 22', 0.793983519077301], \n",
        "    ['The Witching Hour (Lives of the Mayfair Witches)', 0.7448656558990479], \n",
        "    ['Interview with the Vampire', 0.7345068454742432],\n",
        "    ['The Tale of the Body Thief (Vampire Chronicles (Paperback))', 0.5376338362693787],\n",
        "    ['The Vampire Lestat (Vampire Chronicles, Book II)', 0.5178412199020386]\n",
        "  ]\n",
        "]\n",
        "```\n",
        "\n",
        "Notice that the data returned from `get_recommends()` is a list. The first element in the list is the book title passed in to the function. The second element in the list is a list of five more lists. Each of the five lists contains a recommended book and the distance from the recommended book to the book passed in to the function.\n",
        "\n",
        "If you graph the dataset (optional), you will notice that most books are not rated frequently. To ensure statistical significance, remove from the dataset users with less than 200 ratings and books with less than 100 ratings.\n",
        "\n",
        "The first three cells import libraries you may need and the data to use. The final cell is for testing. Write all your code in between those cells."
      ]
    },
    {
      "cell_type": "code",
      "metadata": {
        "id": "Y1onB6kUvo4Z",
        "colab_type": "code",
        "colab": {}
      },
      "source": [
        "# import libraries (you may add additional imports but you may not have to)\n",
        "import numpy as np\n",
        "import pandas as pd\n",
        "from scipy.sparse import csr_matrix\n",
        "from sklearn.neighbors import NearestNeighbors\n",
        "import matplotlib.pyplot as plt"
      ],
      "execution_count": 1,
      "outputs": []
    },
    {
      "cell_type": "code",
      "metadata": {
        "id": "iAQGqqO_vo4d",
        "colab_type": "code",
        "colab": {
          "base_uri": "https://localhost:8080/",
          "height": 289
        },
        "outputId": "879923e3-562b-4987-f9fd-2021481b018c",
        "tags": []
      },
      "source": [
        "books_filename = 'BX-Books.csv'\n",
        "ratings_filename = 'BX-Book-Ratings.csv'"
      ],
      "execution_count": 2,
      "outputs": []
    },
    {
      "cell_type": "code",
      "metadata": {
        "id": "NClILWOiEd6Q",
        "colab_type": "code",
        "colab": {}
      },
      "source": [
        "# import csv data into dataframes\n",
        "df_books = pd.read_csv(\n",
        "    books_filename,\n",
        "    encoding = \"ISO-8859-1\",\n",
        "    sep=\";\",\n",
        "    header=0,\n",
        "    names=['isbn', 'title', 'author'],\n",
        "    usecols=['isbn', 'title', 'author'],\n",
        "    dtype={'isbn': 'str', 'title': 'str', 'author': 'str'})\n",
        "\n",
        "df_ratings = pd.read_csv(\n",
        "    ratings_filename,\n",
        "    encoding = \"ISO-8859-1\",\n",
        "    sep=\";\",\n",
        "    header=0,\n",
        "    names=['user', 'isbn', 'rating'],\n",
        "    usecols=['user', 'isbn', 'rating'],\n",
        "    dtype={'user': 'int32', 'isbn': 'str', 'rating': 'float32'})"
      ],
      "execution_count": 3,
      "outputs": []
    },
    {
      "cell_type": "code",
      "metadata": {
        "id": "GsJmHzCJZPWQ",
        "colab_type": "code",
        "colab": {
          "base_uri": "https://localhost:8080/",
          "height": 204
        },
        "outputId": "1d99d88d-1fe1-4e52-8255-78c3ed825965"
      },
      "source": [
        "df_books.tail()"
      ],
      "execution_count": 4,
      "outputs": [
        {
          "output_type": "execute_result",
          "data": {
            "text/plain": "              isbn                                              title  \\\n271374  0440400988                         There's a Bat in Bunk Five   \n271375  0525447644                            From One to One Hundred   \n271376  006008667X  Lily Dale : The True Story of the Town that Ta...   \n271377  0192126040                        Republic (World's Classics)   \n271378  0767409752  A Guided Tour of Rene Descartes' Meditations o...   \n\n                     author  \n271374       Paula Danziger  \n271375           Teri Sloat  \n271376     Christine Wicker  \n271377                Plato  \n271378  Christopher  Biffle  ",
            "text/html": "<div>\n<style scoped>\n    .dataframe tbody tr th:only-of-type {\n        vertical-align: middle;\n    }\n\n    .dataframe tbody tr th {\n        vertical-align: top;\n    }\n\n    .dataframe thead th {\n        text-align: right;\n    }\n</style>\n<table border=\"1\" class=\"dataframe\">\n  <thead>\n    <tr style=\"text-align: right;\">\n      <th></th>\n      <th>isbn</th>\n      <th>title</th>\n      <th>author</th>\n    </tr>\n  </thead>\n  <tbody>\n    <tr>\n      <th>271374</th>\n      <td>0440400988</td>\n      <td>There's a Bat in Bunk Five</td>\n      <td>Paula Danziger</td>\n    </tr>\n    <tr>\n      <th>271375</th>\n      <td>0525447644</td>\n      <td>From One to One Hundred</td>\n      <td>Teri Sloat</td>\n    </tr>\n    <tr>\n      <th>271376</th>\n      <td>006008667X</td>\n      <td>Lily Dale : The True Story of the Town that Ta...</td>\n      <td>Christine Wicker</td>\n    </tr>\n    <tr>\n      <th>271377</th>\n      <td>0192126040</td>\n      <td>Republic (World's Classics)</td>\n      <td>Plato</td>\n    </tr>\n    <tr>\n      <th>271378</th>\n      <td>0767409752</td>\n      <td>A Guided Tour of Rene Descartes' Meditations o...</td>\n      <td>Christopher  Biffle</td>\n    </tr>\n  </tbody>\n</table>\n</div>"
          },
          "metadata": {},
          "execution_count": 4
        }
      ]
    },
    {
      "cell_type": "code",
      "metadata": {
        "id": "xAcXjkCFCh0A",
        "colab_type": "code",
        "colab": {
          "base_uri": "https://localhost:8080/",
          "height": 204
        },
        "outputId": "7cd330de-207e-46e4-e07c-7f8cec6a6eb7"
      },
      "source": [
        "df_ratings.tail()"
      ],
      "execution_count": 5,
      "outputs": [
        {
          "output_type": "execute_result",
          "data": {
            "text/plain": "           user         isbn  rating\n1149775  276704   1563526298     9.0\n1149776  276706   0679447156     0.0\n1149777  276709   0515107662    10.0\n1149778  276721   0590442449    10.0\n1149779  276723  05162443314     8.0",
            "text/html": "<div>\n<style scoped>\n    .dataframe tbody tr th:only-of-type {\n        vertical-align: middle;\n    }\n\n    .dataframe tbody tr th {\n        vertical-align: top;\n    }\n\n    .dataframe thead th {\n        text-align: right;\n    }\n</style>\n<table border=\"1\" class=\"dataframe\">\n  <thead>\n    <tr style=\"text-align: right;\">\n      <th></th>\n      <th>user</th>\n      <th>isbn</th>\n      <th>rating</th>\n    </tr>\n  </thead>\n  <tbody>\n    <tr>\n      <th>1149775</th>\n      <td>276704</td>\n      <td>1563526298</td>\n      <td>9.0</td>\n    </tr>\n    <tr>\n      <th>1149776</th>\n      <td>276706</td>\n      <td>0679447156</td>\n      <td>0.0</td>\n    </tr>\n    <tr>\n      <th>1149777</th>\n      <td>276709</td>\n      <td>0515107662</td>\n      <td>10.0</td>\n    </tr>\n    <tr>\n      <th>1149778</th>\n      <td>276721</td>\n      <td>0590442449</td>\n      <td>10.0</td>\n    </tr>\n    <tr>\n      <th>1149779</th>\n      <td>276723</td>\n      <td>05162443314</td>\n      <td>8.0</td>\n    </tr>\n  </tbody>\n</table>\n</div>"
          },
          "metadata": {},
          "execution_count": 5
        }
      ]
    },
    {
      "cell_type": "code",
      "metadata": {
        "id": "75aeNN-XY3gD",
        "colab_type": "code",
        "colab": {
          "base_uri": "https://localhost:8080/",
          "height": 204
        },
        "outputId": "a70159d7-cabd-48e4-ba13-f7b9a3aa2c98"
      },
      "source": [
        "# get users with more than 199 ratings\n",
        "users = df_ratings.groupby('user')[['rating']].count().sort_values('rating', ascending=False).reset_index()\n",
        "users = users[users['rating'] > 199]\n",
        "users.tail()"
      ],
      "execution_count": 6,
      "outputs": [
        {
          "output_type": "execute_result",
          "data": {
            "text/plain": "       user  rating\n900   99955     200\n901  225595     200\n902   83671     200\n903  252827     200\n904   26883     200",
            "text/html": "<div>\n<style scoped>\n    .dataframe tbody tr th:only-of-type {\n        vertical-align: middle;\n    }\n\n    .dataframe tbody tr th {\n        vertical-align: top;\n    }\n\n    .dataframe thead th {\n        text-align: right;\n    }\n</style>\n<table border=\"1\" class=\"dataframe\">\n  <thead>\n    <tr style=\"text-align: right;\">\n      <th></th>\n      <th>user</th>\n      <th>rating</th>\n    </tr>\n  </thead>\n  <tbody>\n    <tr>\n      <th>900</th>\n      <td>99955</td>\n      <td>200</td>\n    </tr>\n    <tr>\n      <th>901</th>\n      <td>225595</td>\n      <td>200</td>\n    </tr>\n    <tr>\n      <th>902</th>\n      <td>83671</td>\n      <td>200</td>\n    </tr>\n    <tr>\n      <th>903</th>\n      <td>252827</td>\n      <td>200</td>\n    </tr>\n    <tr>\n      <th>904</th>\n      <td>26883</td>\n      <td>200</td>\n    </tr>\n  </tbody>\n</table>\n</div>"
          },
          "metadata": {},
          "execution_count": 6
        }
      ]
    },
    {
      "cell_type": "code",
      "metadata": {
        "id": "3yMDBlXXy0Mi",
        "colab_type": "code",
        "colab": {
          "base_uri": "https://localhost:8080/",
          "height": 204
        },
        "outputId": "71a61179-a542-4555-c937-69a4c9aad8cf"
      },
      "source": [
        "# get books with more than 99 ratings\n",
        "isbns = df_ratings.groupby('isbn')[['rating']].count().sort_values('rating', ascending=False).reset_index()\n",
        "isbns = isbns[isbns['rating'] > 99]\n",
        "isbns.tail()"
      ],
      "execution_count": 7,
      "outputs": [
        {
          "output_type": "execute_result",
          "data": {
            "text/plain": "           isbn  rating\n726  0786866586     100\n727  0425136981     100\n728  0312966806     100\n729  0425189864     100\n730  0425151867     100",
            "text/html": "<div>\n<style scoped>\n    .dataframe tbody tr th:only-of-type {\n        vertical-align: middle;\n    }\n\n    .dataframe tbody tr th {\n        vertical-align: top;\n    }\n\n    .dataframe thead th {\n        text-align: right;\n    }\n</style>\n<table border=\"1\" class=\"dataframe\">\n  <thead>\n    <tr style=\"text-align: right;\">\n      <th></th>\n      <th>isbn</th>\n      <th>rating</th>\n    </tr>\n  </thead>\n  <tbody>\n    <tr>\n      <th>726</th>\n      <td>0786866586</td>\n      <td>100</td>\n    </tr>\n    <tr>\n      <th>727</th>\n      <td>0425136981</td>\n      <td>100</td>\n    </tr>\n    <tr>\n      <th>728</th>\n      <td>0312966806</td>\n      <td>100</td>\n    </tr>\n    <tr>\n      <th>729</th>\n      <td>0425189864</td>\n      <td>100</td>\n    </tr>\n    <tr>\n      <th>730</th>\n      <td>0425151867</td>\n      <td>100</td>\n    </tr>\n  </tbody>\n</table>\n</div>"
          },
          "metadata": {},
          "execution_count": 7
        }
      ]
    },
    {
      "cell_type": "code",
      "metadata": {
        "id": "FCe871ltfOGZ",
        "colab_type": "code",
        "colab": {
          "base_uri": "https://localhost:8080/",
          "height": 68
        },
        "outputId": "64ad31a8-00b5-4601-eb92-e933bcea9691",
        "tags": []
      },
      "source": [
        "print('Ratings before filtering:', len(df_ratings))\n",
        "\n",
        "# remove users with less than 200 ratings\n",
        "df_ratings = df_ratings[df_ratings['user'].isin(list(users['user']))]\n",
        "print('Ratings after users filtering:', len(df_ratings))\n",
        "\n",
        "# remove books with less than 100 ratings\n",
        "df_ratings = df_ratings[df_ratings['isbn'].isin(list(isbns['isbn']))]\n",
        "print('Ratings after books filtering:', len(df_ratings))"
      ],
      "execution_count": 8,
      "outputs": [
        {
          "output_type": "stream",
          "name": "stdout",
          "text": "Ratings before filtering: 1149780\nRatings after users filtering: 527556\nRatings after books filtering: 49781\n"
        }
      ]
    },
    {
      "cell_type": "code",
      "metadata": {
        "id": "YElkpKU9GbKL",
        "colab_type": "code",
        "colab": {
          "base_uri": "https://localhost:8080/",
          "height": 51
        },
        "outputId": "48a438c7-b971-4ef2-f385-f956d79874a3",
        "tags": []
      },
      "source": [
        "print('Unique books:', df_ratings.isbn.nunique())\n",
        "print('Unique users:', df_ratings.user.nunique())"
      ],
      "execution_count": 9,
      "outputs": [
        {
          "output_type": "stream",
          "name": "stdout",
          "text": "Unique books: 731\nUnique users: 888\n"
        }
      ]
    },
    {
      "cell_type": "code",
      "metadata": {
        "id": "rVbJCLsc9PJp",
        "colab_type": "code",
        "colab": {
          "base_uri": "https://localhost:8080/",
          "height": 204
        },
        "outputId": "90103698-afb6-41c9-ed65-e2ee5c8fb689"
      },
      "source": [
        "df_combined = pd.merge(df_ratings, df_books, on='isbn').reset_index()\n",
        "df_combined = df_combined.drop(['index', 'author'], axis=1)\n",
        "df_combined.tail()"
      ],
      "execution_count": 10,
      "outputs": [
        {
          "output_type": "execute_result",
          "data": {
            "text/plain": "         user        isbn  rating  \\\n49512  238864  0399149325     0.0   \n49513  251843  0399149325     1.0   \n49514  253821  0399149325     0.0   \n49515  265115  0399149325     0.0   \n49516  266226  0399149325     0.0   \n\n                                                   title  \n49512  Portrait of a Killer: Jack the Ripper -- Case ...  \n49513  Portrait of a Killer: Jack the Ripper -- Case ...  \n49514  Portrait of a Killer: Jack the Ripper -- Case ...  \n49515  Portrait of a Killer: Jack the Ripper -- Case ...  \n49516  Portrait of a Killer: Jack the Ripper -- Case ...  ",
            "text/html": "<div>\n<style scoped>\n    .dataframe tbody tr th:only-of-type {\n        vertical-align: middle;\n    }\n\n    .dataframe tbody tr th {\n        vertical-align: top;\n    }\n\n    .dataframe thead th {\n        text-align: right;\n    }\n</style>\n<table border=\"1\" class=\"dataframe\">\n  <thead>\n    <tr style=\"text-align: right;\">\n      <th></th>\n      <th>user</th>\n      <th>isbn</th>\n      <th>rating</th>\n      <th>title</th>\n    </tr>\n  </thead>\n  <tbody>\n    <tr>\n      <th>49512</th>\n      <td>238864</td>\n      <td>0399149325</td>\n      <td>0.0</td>\n      <td>Portrait of a Killer: Jack the Ripper -- Case ...</td>\n    </tr>\n    <tr>\n      <th>49513</th>\n      <td>251843</td>\n      <td>0399149325</td>\n      <td>1.0</td>\n      <td>Portrait of a Killer: Jack the Ripper -- Case ...</td>\n    </tr>\n    <tr>\n      <th>49514</th>\n      <td>253821</td>\n      <td>0399149325</td>\n      <td>0.0</td>\n      <td>Portrait of a Killer: Jack the Ripper -- Case ...</td>\n    </tr>\n    <tr>\n      <th>49515</th>\n      <td>265115</td>\n      <td>0399149325</td>\n      <td>0.0</td>\n      <td>Portrait of a Killer: Jack the Ripper -- Case ...</td>\n    </tr>\n    <tr>\n      <th>49516</th>\n      <td>266226</td>\n      <td>0399149325</td>\n      <td>0.0</td>\n      <td>Portrait of a Killer: Jack the Ripper -- Case ...</td>\n    </tr>\n  </tbody>\n</table>\n</div>"
          },
          "metadata": {},
          "execution_count": 10
        }
      ]
    },
    {
      "cell_type": "code",
      "metadata": {
        "id": "iEAkCrYpBl2K",
        "colab_type": "code",
        "colab": {
          "base_uri": "https://localhost:8080/",
          "height": 51
        },
        "outputId": "623a7be3-bfda-4382-d60a-07ff9919e304",
        "tags": []
      },
      "source": [
        "print('Unique books:', df_combined.isbn.nunique())\n",
        "print('Unique users:', df_combined.user.nunique())"
      ],
      "execution_count": 11,
      "outputs": [
        {
          "output_type": "stream",
          "name": "stdout",
          "text": "Unique books: 727\nUnique users: 888\n"
        }
      ]
    },
    {
      "cell_type": "code",
      "metadata": {
        "id": "5P0S65QHD4XI",
        "colab_type": "code",
        "colab": {
          "base_uri": "https://localhost:8080/",
          "height": 284
        },
        "outputId": "dabc63be-5526-47f2-ecc2-cfb6d8268e5e"
      },
      "source": [
        "df_combined = df_combined.drop_duplicates(['user', 'isbn'])\n",
        "df_combined_pivot = df_combined.pivot(index = 'isbn', columns = 'user', values = 'rating').fillna(0)\n",
        "df_combined_matrix = csr_matrix(df_combined_pivot.values)\n",
        "df_combined_pivot.tail()"
      ],
      "execution_count": 12,
      "outputs": [
        {
          "output_type": "execute_result",
          "data": {
            "text/plain": "user        254     2276    2766    2977    3363    4017    4385    6242    \\\nisbn                                                                         \n1573227331     0.0     0.0     0.0     0.0     0.0     0.0     0.0     6.0   \n1573229326     0.0     0.0     0.0     0.0     0.0     0.0     0.0     6.0   \n1573229571     0.0     0.0     0.0     0.0     0.0     0.0     0.0     0.0   \n1592400876     0.0     0.0     0.0     0.0     0.0     0.0     0.0     0.0   \n1878424319     0.0     0.0     0.0     0.0     0.0     0.0     0.0     0.0   \n\nuser        6251    6323    ...  274004  274061  274301  274308  274808  \\\nisbn                        ...                                           \n1573227331     0.0     0.0  ...     0.0     0.0     0.0     0.0     0.0   \n1573229326     0.0     0.0  ...     0.0     0.0     0.0     0.0     0.0   \n1573229571     0.0     0.0  ...     0.0     0.0     0.0     0.0     0.0   \n1592400876     0.0     0.0  ...     0.0     0.0     0.0     0.0     0.0   \n1878424319     0.0     0.0  ...     0.0     0.0     0.0     0.0     0.0   \n\nuser        275970  277427  277478  277639  278418  \nisbn                                                \n1573227331     0.0     0.0     0.0     0.0     0.0  \n1573229326     0.0     0.0     0.0     0.0     0.0  \n1573229571     0.0     0.0     0.0     0.0     0.0  \n1592400876     0.0     0.0     0.0     0.0     0.0  \n1878424319     0.0     0.0     0.0     0.0     0.0  \n\n[5 rows x 888 columns]",
            "text/html": "<div>\n<style scoped>\n    .dataframe tbody tr th:only-of-type {\n        vertical-align: middle;\n    }\n\n    .dataframe tbody tr th {\n        vertical-align: top;\n    }\n\n    .dataframe thead th {\n        text-align: right;\n    }\n</style>\n<table border=\"1\" class=\"dataframe\">\n  <thead>\n    <tr style=\"text-align: right;\">\n      <th>user</th>\n      <th>254</th>\n      <th>2276</th>\n      <th>2766</th>\n      <th>2977</th>\n      <th>3363</th>\n      <th>4017</th>\n      <th>4385</th>\n      <th>6242</th>\n      <th>6251</th>\n      <th>6323</th>\n      <th>...</th>\n      <th>274004</th>\n      <th>274061</th>\n      <th>274301</th>\n      <th>274308</th>\n      <th>274808</th>\n      <th>275970</th>\n      <th>277427</th>\n      <th>277478</th>\n      <th>277639</th>\n      <th>278418</th>\n    </tr>\n    <tr>\n      <th>isbn</th>\n      <th></th>\n      <th></th>\n      <th></th>\n      <th></th>\n      <th></th>\n      <th></th>\n      <th></th>\n      <th></th>\n      <th></th>\n      <th></th>\n      <th></th>\n      <th></th>\n      <th></th>\n      <th></th>\n      <th></th>\n      <th></th>\n      <th></th>\n      <th></th>\n      <th></th>\n      <th></th>\n      <th></th>\n    </tr>\n  </thead>\n  <tbody>\n    <tr>\n      <th>1573227331</th>\n      <td>0.0</td>\n      <td>0.0</td>\n      <td>0.0</td>\n      <td>0.0</td>\n      <td>0.0</td>\n      <td>0.0</td>\n      <td>0.0</td>\n      <td>6.0</td>\n      <td>0.0</td>\n      <td>0.0</td>\n      <td>...</td>\n      <td>0.0</td>\n      <td>0.0</td>\n      <td>0.0</td>\n      <td>0.0</td>\n      <td>0.0</td>\n      <td>0.0</td>\n      <td>0.0</td>\n      <td>0.0</td>\n      <td>0.0</td>\n      <td>0.0</td>\n    </tr>\n    <tr>\n      <th>1573229326</th>\n      <td>0.0</td>\n      <td>0.0</td>\n      <td>0.0</td>\n      <td>0.0</td>\n      <td>0.0</td>\n      <td>0.0</td>\n      <td>0.0</td>\n      <td>6.0</td>\n      <td>0.0</td>\n      <td>0.0</td>\n      <td>...</td>\n      <td>0.0</td>\n      <td>0.0</td>\n      <td>0.0</td>\n      <td>0.0</td>\n      <td>0.0</td>\n      <td>0.0</td>\n      <td>0.0</td>\n      <td>0.0</td>\n      <td>0.0</td>\n      <td>0.0</td>\n    </tr>\n    <tr>\n      <th>1573229571</th>\n      <td>0.0</td>\n      <td>0.0</td>\n      <td>0.0</td>\n      <td>0.0</td>\n      <td>0.0</td>\n      <td>0.0</td>\n      <td>0.0</td>\n      <td>0.0</td>\n      <td>0.0</td>\n      <td>0.0</td>\n      <td>...</td>\n      <td>0.0</td>\n      <td>0.0</td>\n      <td>0.0</td>\n      <td>0.0</td>\n      <td>0.0</td>\n      <td>0.0</td>\n      <td>0.0</td>\n      <td>0.0</td>\n      <td>0.0</td>\n      <td>0.0</td>\n    </tr>\n    <tr>\n      <th>1592400876</th>\n      <td>0.0</td>\n      <td>0.0</td>\n      <td>0.0</td>\n      <td>0.0</td>\n      <td>0.0</td>\n      <td>0.0</td>\n      <td>0.0</td>\n      <td>0.0</td>\n      <td>0.0</td>\n      <td>0.0</td>\n      <td>...</td>\n      <td>0.0</td>\n      <td>0.0</td>\n      <td>0.0</td>\n      <td>0.0</td>\n      <td>0.0</td>\n      <td>0.0</td>\n      <td>0.0</td>\n      <td>0.0</td>\n      <td>0.0</td>\n      <td>0.0</td>\n    </tr>\n    <tr>\n      <th>1878424319</th>\n      <td>0.0</td>\n      <td>0.0</td>\n      <td>0.0</td>\n      <td>0.0</td>\n      <td>0.0</td>\n      <td>0.0</td>\n      <td>0.0</td>\n      <td>0.0</td>\n      <td>0.0</td>\n      <td>0.0</td>\n      <td>...</td>\n      <td>0.0</td>\n      <td>0.0</td>\n      <td>0.0</td>\n      <td>0.0</td>\n      <td>0.0</td>\n      <td>0.0</td>\n      <td>0.0</td>\n      <td>0.0</td>\n      <td>0.0</td>\n      <td>0.0</td>\n    </tr>\n  </tbody>\n</table>\n<p>5 rows × 888 columns</p>\n</div>"
          },
          "metadata": {},
          "execution_count": 12
        }
      ]
    },
    {
      "cell_type": "code",
      "metadata": {
        "id": "9pZIrqyuJLgC",
        "colab_type": "code",
        "colab": {
          "base_uri": "https://localhost:8080/",
          "height": 68
        },
        "outputId": "97e0623a-7b0b-46fb-ee53-b219ea7a9922"
      },
      "source": [
        "model = NearestNeighbors(metric = 'cosine', algorithm = 'brute')\n",
        "\n",
        "model.fit(df_combined_matrix)"
      ],
      "execution_count": 13,
      "outputs": [
        {
          "output_type": "execute_result",
          "data": {
            "text/plain": "NearestNeighbors(algorithm='brute', metric='cosine')"
          },
          "metadata": {},
          "execution_count": 13
        }
      ]
    },
    {
      "cell_type": "code",
      "metadata": {
        "id": "KhWEBTsSH27i",
        "colab_type": "code",
        "colab": {
          "base_uri": "https://localhost:8080/",
          "height": 68
        },
        "outputId": "5d39fbd1-9890-4f23-ef02-ea11ad26aa7e",
        "tags": []
      },
      "source": [
        "book_name = \"The Queen of the Damned (Vampire Chronicles (Paperback))\"\n",
        "book_isbn = df_books[df_books['title'] == book_name].isbn.values[0]\n",
        "book_data = df_combined_pivot.loc[book_isbn].to_numpy().reshape(1, -1)\n",
        "\n",
        "distances, indices = model.kneighbors(book_data, n_neighbors=6)\n",
        "print(distances)\n",
        "print(indices)"
      ],
      "execution_count": 14,
      "outputs": [
        {
          "output_type": "stream",
          "name": "stdout",
          "text": "[[5.9604645e-08 5.1784116e-01 5.3763384e-01 7.3450685e-01 7.4486566e-01\n  7.9398352e-01]]\n[[136 126 152 127 151 641]]\n"
        }
      ]
    },
    {
      "cell_type": "code",
      "metadata": {
        "id": "ho17m55slLsF",
        "colab_type": "code",
        "colab": {
          "base_uri": "https://localhost:8080/",
          "height": 119
        },
        "outputId": "c3f77190-1338-45c9-ab74-546119203bac",
        "tags": []
      },
      "source": [
        "for index in indices[0]:\n",
        "  book_isbn = df_combined_pivot.iloc[index,:].name\n",
        "  print(df_books[df_books['isbn'] == book_isbn].title.values[0])"
      ],
      "execution_count": 15,
      "outputs": [
        {
          "output_type": "stream",
          "name": "stdout",
          "text": "The Queen of the Damned (Vampire Chronicles (Paperback))\nThe Vampire Lestat (Vampire Chronicles, Book II)\nThe Tale of the Body Thief (Vampire Chronicles (Paperback))\nInterview with the Vampire\nThe Witching Hour (Lives of the Mayfair Witches)\nCatch 22\n"
        }
      ]
    },
    {
      "cell_type": "code",
      "metadata": {
        "id": "f5ZUd-L1SQz7",
        "colab_type": "code",
        "colab": {}
      },
      "source": [
        "# function to return recommended books - this will be tested\n",
        "\n",
        "def get_recommends(book = \"\"):\n",
        "  book_isbn = df_books[df_books['title'] == book].isbn.values[0]\n",
        "  book_data = df_combined_pivot.loc[book_isbn].to_numpy().reshape(1, -1)\n",
        "\n",
        "  distances, indices = model.kneighbors(book_data, n_neighbors=6)\n",
        "  recommended_books = [book, []]\n",
        "  i = -1\n",
        "  while i > -(distances.size):\n",
        "     index = indices[0][i]\n",
        "     book_isbn = df_combined_pivot.iloc[index,:].name\n",
        "     book_name = df_books[df_books['isbn'] == book_isbn].title.values[0]\n",
        "     recommended_book = [book_name, distances[0][i]]\n",
        "     recommended_books[1].append(recommended_book)\n",
        "     i -= 1\n",
        "\n",
        "  return recommended_books"
      ],
      "execution_count": 16,
      "outputs": []
    },
    {
      "cell_type": "markdown",
      "metadata": {
        "id": "eat9A2TKawHU",
        "colab_type": "text"
      },
      "source": [
        "Use the cell below to test your function. The `test_book_recommendation()` function will inform you if you passed the challenge or need to keep trying."
      ]
    },
    {
      "cell_type": "code",
      "metadata": {
        "id": "jd2SLCh8oxMh",
        "colab_type": "code",
        "colab": {
          "base_uri": "https://localhost:8080/",
          "height": 71
        },
        "outputId": "b75799b3-8b2d-4e9e-f038-4af4d36de2a4",
        "tags": []
      },
      "source": [
        "books = get_recommends(\"Where the Heart Is (Oprah's Book Club (Paperback))\")\n",
        "print(books)\n",
        "\n",
        "def test_book_recommendation():\n",
        "  test_pass = True\n",
        "  recommends = get_recommends(\"Where the Heart Is (Oprah's Book Club (Paperback))\")\n",
        "  if recommends[0] != \"Where the Heart Is (Oprah's Book Club (Paperback))\":\n",
        "    test_pass = False\n",
        "  recommended_books = [\"I'll Be Seeing You\", 'The Weight of Water', 'The Surgeon', 'I Know This Much Is True']\n",
        "  recommended_books_dist = [0.8, 0.77, 0.77, 0.77]\n",
        "  for i in range(2): \n",
        "    if recommends[1][i][0] not in recommended_books:\n",
        "      test_pass = False\n",
        "    if abs(recommends[1][i][1] - recommended_books_dist[i]) >= 0.05:\n",
        "      test_pass = False\n",
        "  if test_pass:\n",
        "    print(\"You passed the challenge! 🎉🎉🎉🎉🎉\")\n",
        "  else:\n",
        "    print(\"You havn't passed yet. Keep trying!\")\n",
        "\n",
        "test_book_recommendation()"
      ],
      "execution_count": 17,
      "outputs": [
        {
          "output_type": "stream",
          "name": "stdout",
          "text": "[\"Where the Heart Is (Oprah's Book Club (Paperback))\", [[\"I'll Be Seeing You\", 0.8016211], ['The Weight of Water', 0.77085835], ['The Surgeon', 0.7699411], ['I Know This Much Is True', 0.7677075], ['The Lovely Bones: A Novel', 0.7234864]]]\nYou passed the challenge! 🎉🎉🎉🎉🎉\n"
        }
      ]
    }
  ]
}