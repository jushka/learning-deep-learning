{
  "nbformat": 4,
  "nbformat_minor": 0,
  "metadata": {
    "colab": {
      "name": "fcc_sms_text_classification.ipynb",
      "provenance": [],
      "private_outputs": true,
      "collapsed_sections": [],
      "toc_visible": true
    },
    "kernelspec": {
      "display_name": "Python 3",
      "name": "python3"
    }
  },
  "cells": [
    {
      "cell_type": "markdown",
      "metadata": {
        "colab_type": "text",
        "id": "Eg62Pmz3o83v"
      },
      "source": [
        "In this challenge, you need to create a machine learning model that will classify SMS messages as either \"ham\" or \"spam\". A \"ham\" message is a normal message sent by a friend. A \"spam\" message is an advertisement or a message sent by a company.\n",
        "\n",
        "You should create a function called `predict_message` that takes a message string as an argument and returns a list. The first element in the list should be a number between zero and one that indicates the likeliness of \"ham\" (0) or \"spam\" (1). The second element in the list should be the word \"ham\" or \"spam\", depending on which is most likely.\n",
        "\n",
        "For this challenge, you will use the [SMS Spam Collection dataset](http://www.dt.fee.unicamp.br/~tiago/smsspamcollection/). The dataset has already been grouped into train data and test data.\n",
        "\n",
        "The first two cells import the libraries and data. The final cell tests your model and function. Add your code in between these cells.\n"
      ]
    },
    {
      "cell_type": "code",
      "metadata": {
        "colab_type": "code",
        "id": "8RZOuS9LWQvv",
        "colab": {}
      },
      "source": [
        "import pandas as pd\n",
        "import tensorflow as tf\n",
        "import tensorflow_datasets as tfds\n",
        "import numpy as np\n",
        "import matplotlib.pyplot as plt"
      ],
      "execution_count": 1,
      "outputs": []
    },
    {
      "cell_type": "code",
      "metadata": {
        "id": "lMHwYXHXCar3",
        "colab_type": "code",
        "colab": {},
        "tags": []
      },
      "source": [
        "# get data files\n",
        "TRAIN_DATA_URL = \"https://raw.githubusercontent.com/beaucarnes/fcc_python_curriculum/master/sms/train-data.tsv\"\n",
        "TEST_DATA_URL = \"https://raw.githubusercontent.com/beaucarnes/fcc_python_curriculum/master/sms/valid-data.tsv\"\n",
        "\n",
        "train_file_path = tf.keras.utils.get_file(\"train-data.tsv\", TRAIN_DATA_URL)\n",
        "test_file_path = tf.keras.utils.get_file(\"valid-data.tsv\", TEST_DATA_URL)"
      ],
      "execution_count": 2,
      "outputs": [
        {
          "output_type": "stream",
          "name": "stdout",
          "text": "Downloading data from https://raw.githubusercontent.com/beaucarnes/fcc_python_curriculum/master/sms/train-data.tsv\n360448/358233 [==============================] - 0s 1us/step\nDownloading data from https://raw.githubusercontent.com/beaucarnes/fcc_python_curriculum/master/sms/valid-data.tsv\n122880/118774 [===============================] - 0s 1us/step\n"
        }
      ]
    },
    {
      "cell_type": "code",
      "metadata": {
        "id": "A6xM66eXWREl",
        "colab_type": "code",
        "colab": {}
      },
      "source": [
        "BATCH_SIZE = 64"
      ],
      "execution_count": 3,
      "outputs": []
    },
    {
      "cell_type": "code",
      "metadata": {
        "colab_type": "code",
        "id": "zOMKywn4zReN",
        "colab": {}
      },
      "source": [
        "train_df = pd.read_csv(train_file_path, sep='\\t', names=['label', 'text'])\n",
        "train_df['label'] = train_df['label'].map({'ham': 0, 'spam': 1})\n",
        "train_df.tail(2)"
      ],
      "execution_count": 4,
      "outputs": [
        {
          "output_type": "execute_result",
          "data": {
            "text/plain": "      label                                               text\n4177      1  -pls stop bootydelious (32/f) is inviting you ...\n4178      0  tell my  bad character which u dnt lik in me. ...",
            "text/html": "<div>\n<style scoped>\n    .dataframe tbody tr th:only-of-type {\n        vertical-align: middle;\n    }\n\n    .dataframe tbody tr th {\n        vertical-align: top;\n    }\n\n    .dataframe thead th {\n        text-align: right;\n    }\n</style>\n<table border=\"1\" class=\"dataframe\">\n  <thead>\n    <tr style=\"text-align: right;\">\n      <th></th>\n      <th>label</th>\n      <th>text</th>\n    </tr>\n  </thead>\n  <tbody>\n    <tr>\n      <th>4177</th>\n      <td>1</td>\n      <td>-pls stop bootydelious (32/f) is inviting you ...</td>\n    </tr>\n    <tr>\n      <th>4178</th>\n      <td>0</td>\n      <td>tell my  bad character which u dnt lik in me. ...</td>\n    </tr>\n  </tbody>\n</table>\n</div>"
          },
          "metadata": {},
          "execution_count": 4
        }
      ]
    },
    {
      "cell_type": "code",
      "metadata": {
        "id": "_UF5-LAWFmO-",
        "colab_type": "code",
        "colab": {},
        "tags": []
      },
      "source": [
        "train_dataset = tf.data.Dataset.from_tensor_slices((train_df.text.values, train_df.label.values))\n",
        "for ex in train_dataset.take(5):\n",
        "  print(ex)"
      ],
      "execution_count": 5,
      "outputs": [
        {
          "output_type": "stream",
          "name": "stdout",
          "text": "(<tf.Tensor: shape=(), dtype=string, numpy=b'ahhhh...just woken up!had a bad dream about u tho,so i dont like u right now :) i didnt know anything about comedy night but i guess im up for it.'>, <tf.Tensor: shape=(), dtype=int64, numpy=0>)\n(<tf.Tensor: shape=(), dtype=string, numpy=b'you can never do nothing'>, <tf.Tensor: shape=(), dtype=int64, numpy=0>)\n(<tf.Tensor: shape=(), dtype=string, numpy=b'now u sound like manky scouse boy steve,like! i is travelling on da bus home.wot has u inmind 4 recreation dis eve?'>, <tf.Tensor: shape=(), dtype=int64, numpy=0>)\n(<tf.Tensor: shape=(), dtype=string, numpy=b'mum say we wan to go then go... then she can shun bian watch da glass exhibition...'>, <tf.Tensor: shape=(), dtype=int64, numpy=0>)\n(<tf.Tensor: shape=(), dtype=string, numpy=b'never y lei... i v lazy... got wat? dat day \\xc3\\xbc send me da url cant work one...'>, <tf.Tensor: shape=(), dtype=int64, numpy=0>)\n"
        }
      ]
    },
    {
      "cell_type": "code",
      "metadata": {
        "id": "RhSK926XyrSN",
        "colab_type": "code",
        "colab": {}
      },
      "source": [
        "test_df = pd.read_csv(test_file_path, sep='\\t', names=['label', 'text'])\n",
        "test_df['label'] = test_df['label'].map({'ham': 0, 'spam': 1})\n",
        "test_df.tail(2)"
      ],
      "execution_count": 6,
      "outputs": [
        {
          "output_type": "execute_result",
          "data": {
            "text/plain": "      label                                               text\n1390      1  ur cash-balance is currently 500 pounds - to m...\n1391      1  not heard from u4 a while. call 4 rude chat pr...",
            "text/html": "<div>\n<style scoped>\n    .dataframe tbody tr th:only-of-type {\n        vertical-align: middle;\n    }\n\n    .dataframe tbody tr th {\n        vertical-align: top;\n    }\n\n    .dataframe thead th {\n        text-align: right;\n    }\n</style>\n<table border=\"1\" class=\"dataframe\">\n  <thead>\n    <tr style=\"text-align: right;\">\n      <th></th>\n      <th>label</th>\n      <th>text</th>\n    </tr>\n  </thead>\n  <tbody>\n    <tr>\n      <th>1390</th>\n      <td>1</td>\n      <td>ur cash-balance is currently 500 pounds - to m...</td>\n    </tr>\n    <tr>\n      <th>1391</th>\n      <td>1</td>\n      <td>not heard from u4 a while. call 4 rude chat pr...</td>\n    </tr>\n  </tbody>\n</table>\n</div>"
          },
          "metadata": {},
          "execution_count": 6
        }
      ]
    },
    {
      "cell_type": "code",
      "metadata": {
        "id": "QBIe5WxTIi-A",
        "colab_type": "code",
        "colab": {},
        "tags": []
      },
      "source": [
        "test_dataset = tf.data.Dataset.from_tensor_slices((test_df.text.values, test_df.label.values))\n",
        "for ex in test_dataset.take(5):\n",
        "  print(ex)"
      ],
      "execution_count": 7,
      "outputs": [
        {
          "output_type": "stream",
          "name": "stdout",
          "text": "(<tf.Tensor: shape=(), dtype=string, numpy=b'i am in hospital da. . i will return home in evening'>, <tf.Tensor: shape=(), dtype=int64, numpy=0>)\n(<tf.Tensor: shape=(), dtype=string, numpy=b\"not much, just some textin'. how bout you?\">, <tf.Tensor: shape=(), dtype=int64, numpy=0>)\n(<tf.Tensor: shape=(), dtype=string, numpy=b\"i probably won't eat at all today. i think i'm gonna pop. how was your weekend? did u miss me?\">, <tf.Tensor: shape=(), dtype=int64, numpy=0>)\n(<tf.Tensor: shape=(), dtype=string, numpy=b'don\\xe2\\x80\\x98t give a flying monkeys wot they think and i certainly don\\xe2\\x80\\x98t mind. any friend of mine and all that!'>, <tf.Tensor: shape=(), dtype=int64, numpy=0>)\n(<tf.Tensor: shape=(), dtype=string, numpy=b'who are you seeing?'>, <tf.Tensor: shape=(), dtype=int64, numpy=0>)\n"
        }
      ]
    },
    {
      "cell_type": "code",
      "metadata": {
        "id": "n48HW4wgyyhz",
        "colab_type": "code",
        "colab": {}
      },
      "source": [
        "tokenizer = tfds.features.text.Tokenizer()\n",
        "\n",
        "vocabulary_set = set()\n",
        "for text_tensor, _ in train_dataset:\n",
        "  some_tokens = tokenizer.tokenize(text_tensor.numpy())\n",
        "  vocabulary_set.update(some_tokens)\n",
        "for text_tensor, _ in test_dataset:\n",
        "  some_tokens = tokenizer.tokenize(text_tensor.numpy())\n",
        "  vocabulary_set.update(some_tokens)\n",
        "\n",
        "vocab_size = len(vocabulary_set)\n",
        "vocab_size"
      ],
      "execution_count": 8,
      "outputs": [
        {
          "output_type": "execute_result",
          "data": {
            "text/plain": "8741"
          },
          "metadata": {},
          "execution_count": 8
        }
      ]
    },
    {
      "cell_type": "code",
      "metadata": {
        "id": "5r7nc2c73pMO",
        "colab_type": "code",
        "colab": {}
      },
      "source": [
        "encoder = tfds.features.text.TokenTextEncoder(vocabulary_set)"
      ],
      "execution_count": 9,
      "outputs": []
    },
    {
      "cell_type": "code",
      "metadata": {
        "id": "R6PLTyBlUAK_",
        "colab_type": "code",
        "colab": {},
        "tags": []
      },
      "source": [
        "example_text = next(iter(train_dataset))[0].numpy()\n",
        "print(example_text)"
      ],
      "execution_count": 10,
      "outputs": [
        {
          "output_type": "stream",
          "name": "stdout",
          "text": "b'ahhhh...just woken up!had a bad dream about u tho,so i dont like u right now :) i didnt know anything about comedy night but i guess im up for it.'\n"
        }
      ]
    },
    {
      "cell_type": "code",
      "metadata": {
        "id": "gvHVGbsXUCyC",
        "colab_type": "code",
        "colab": {},
        "tags": []
      },
      "source": [
        "encoded_example = encoder.encode(example_text)\n",
        "print(encoded_example)"
      ],
      "execution_count": 11,
      "outputs": [
        {
          "output_type": "stream",
          "name": "stdout",
          "text": "[3571, 5701, 7726, 2008, 2512, 1986, 1598, 6007, 3038, 4607, 4691, 4426, 4684, 6962, 8048, 4607, 2299, 2947, 4684, 6154, 2301, 3374, 3038, 7927, 4808, 311, 4684, 2857, 3339, 2008, 4823, 6953]\n"
        }
      ]
    },
    {
      "cell_type": "code",
      "metadata": {
        "id": "42GYR3G3UkID",
        "colab_type": "code",
        "colab": {}
      },
      "source": [
        "def encode(text_tensor, label):\n",
        "  encoded_text = encoder.encode(text_tensor.numpy())\n",
        "  return encoded_text, label"
      ],
      "execution_count": 12,
      "outputs": []
    },
    {
      "cell_type": "code",
      "metadata": {
        "id": "QU-C1vigU9rm",
        "colab_type": "code",
        "colab": {},
        "tags": []
      },
      "source": [
        "def encode_map_fn(text, label):\n",
        "  # py_func doesn't set the shape of the returned tensors.\n",
        "  encoded_text, label = tf.py_function(encode, \n",
        "                                       inp=[text, label], \n",
        "                                       Tout=(tf.int64, tf.int64))\n",
        "\n",
        "  # `tf.data.Datasets` work best if all components have a shape set\n",
        "  #  so set the shapes manually: \n",
        "  encoded_text.set_shape([None])\n",
        "  label.set_shape([])\n",
        "\n",
        "  return encoded_text, label\n",
        "\n",
        "\n",
        "encoded_train_dataset = train_dataset.map(encode_map_fn)\n",
        "encoded_test_dataset = test_dataset.map(encode_map_fn)\n",
        "\n",
        "for ex in encoded_train_dataset.take(5):\n",
        "  print(ex)"
      ],
      "execution_count": 13,
      "outputs": [
        {
          "output_type": "stream",
          "name": "stdout",
          "text": "(<tf.Tensor: shape=(32,), dtype=int64, numpy=\narray([3571, 5701, 7726, 2008, 2512, 1986, 1598, 6007, 3038, 4607, 4691,\n       4426, 4684, 6962, 8048, 4607, 2299, 2947, 4684, 6154, 2301, 3374,\n       3038, 7927, 4808,  311, 4684, 2857, 3339, 2008, 4823, 6953],\n      dtype=int64)>, <tf.Tensor: shape=(), dtype=int64, numpy=0>)\n(<tf.Tensor: shape=(5,), dtype=int64, numpy=array([7813, 1463, 4224, 8092, 4020], dtype=int64)>, <tf.Tensor: shape=(), dtype=int64, numpy=0>)\n(<tf.Tensor: shape=(24,), dtype=int64, numpy=\narray([2947, 4607,  156, 8048, 4884, 2016, 3348, 5047, 8048, 4684, 1317,\n        825, 5671, 5275, 5659, 5314, 2046, 3858, 4607, 1007,  908, 7439,\n       4092, 5038], dtype=int64)>, <tf.Tensor: shape=(), dtype=int64, numpy=0>)\n(<tf.Tensor: shape=(17,), dtype=int64, numpy=\narray([3737, 3559, 6502,  626,  916, 1632, 1859, 1632, 1859, 6086, 1463,\n       3778,  115, 7193, 5275, 3396, 7973], dtype=int64)>, <tf.Tensor: shape=(), dtype=int64, numpy=0>)\n(<tf.Tensor: shape=(18,), dtype=int64, numpy=\narray([4224, 4013, 1063, 4684, 1771, 5680, 4738, 6496, 6733, 5944, 4682,\n       7669,  516, 5275, 5638, 7573, 5841, 8055], dtype=int64)>, <tf.Tensor: shape=(), dtype=int64, numpy=0>)\n"
        }
      ]
    },
    {
      "cell_type": "code",
      "metadata": {
        "id": "896ErJ0wVpmH",
        "colab_type": "code",
        "colab": {},
        "tags": []
      },
      "source": [
        "train_data = encoded_train_dataset.padded_batch(BATCH_SIZE)\n",
        "\n",
        "test_data = encoded_test_dataset.padded_batch(BATCH_SIZE)\n",
        "\n",
        "for ex in train_data.take(2):\n",
        "  print(ex)"
      ],
      "execution_count": 14,
      "outputs": [
        {
          "output_type": "stream",
          "name": "stdout",
          "text": "(<tf.Tensor: shape=(64, 97), dtype=int64, numpy=\narray([[3571, 5701, 7726, ...,    0,    0,    0],\n       [7813, 1463, 4224, ...,    0,    0,    0],\n       [2947, 4607,  156, ...,    0,    0,    0],\n       ...,\n       [1993, 6962, 3559, ...,    0,    0,    0],\n       [7935, 7935, 2058, ...,    0,    0,    0],\n       [7193, 6297, 4684, ...,    0,    0,    0]], dtype=int64)>, <tf.Tensor: shape=(64,), dtype=int64, numpy=\narray([0, 0, 0, 0, 0, 0, 0, 0, 1, 0, 0, 0, 0, 0, 0, 0, 1, 0, 0, 0, 1, 0,\n       0, 0, 0, 0, 0, 0, 0, 0, 0, 0, 0, 0, 0, 0, 0, 1, 0, 1, 0, 0, 1, 1,\n       0, 0, 0, 0, 0, 0, 0, 0, 0, 0, 0, 0, 0, 0, 0, 0, 0, 0, 0, 0],\n      dtype=int64)>)\n(<tf.Tensor: shape=(64, 40), dtype=int64, numpy=\narray([[4684,   26, 5712, ...,    0,    0,    0],\n       [1463, 7813,  125, ...,    0,    0,    0],\n       [7968,  311, 7844, ...,    0,    0,    0],\n       ...,\n       [5282, 2755, 5622, ...,    0,    0,    0],\n       [5882, 1184, 5975, ...,    0,    0,    0],\n       [  42, 1536, 4684, ...,    0,    0,    0]], dtype=int64)>, <tf.Tensor: shape=(64,), dtype=int64, numpy=\narray([0, 0, 0, 0, 0, 1, 0, 0, 0, 0, 0, 0, 0, 0, 0, 0, 0, 1, 0, 0, 1, 0,\n       0, 0, 0, 1, 0, 1, 0, 0, 0, 0, 1, 0, 0, 1, 0, 0, 0, 0, 0, 1, 0, 0,\n       0, 1, 0, 0, 0, 0, 0, 1, 0, 0, 0, 0, 0, 0, 0, 0, 0, 1, 0, 0],\n      dtype=int64)>)\n"
        }
      ]
    },
    {
      "cell_type": "code",
      "metadata": {
        "id": "Pt2i_2PNWlc7",
        "colab_type": "code",
        "colab": {}
      },
      "source": [
        "vocab_size += 2\n",
        "vocab_size"
      ],
      "execution_count": 15,
      "outputs": [
        {
          "output_type": "execute_result",
          "data": {
            "text/plain": "8743"
          },
          "metadata": {},
          "execution_count": 15
        }
      ]
    },
    {
      "cell_type": "code",
      "metadata": {
        "id": "tbUdeNA4Wo3c",
        "colab_type": "code",
        "colab": {}
      },
      "source": [
        "model = tf.keras.Sequential()\n",
        "\n",
        "model.add(tf.keras.layers.Embedding(vocab_size, 64))\n",
        "model.add(tf.keras.layers.Bidirectional(tf.keras.layers.LSTM(64)))\n",
        "model.add(tf.keras.layers.Dense(64, activation='relu'))\n",
        "model.add(tf.keras.layers.Dense(1, activation='sigmoid'))"
      ],
      "execution_count": 16,
      "outputs": []
    },
    {
      "cell_type": "code",
      "metadata": {
        "id": "3UOKL35mI4Gh",
        "colab_type": "code",
        "colab": {},
        "tags": []
      },
      "source": [
        "model.summary()"
      ],
      "execution_count": 17,
      "outputs": [
        {
          "output_type": "stream",
          "name": "stdout",
          "text": "Model: \"sequential\"\n_________________________________________________________________\nLayer (type)                 Output Shape              Param #   \n=================================================================\nembedding (Embedding)        (None, None, 64)          559552    \n_________________________________________________________________\nbidirectional (Bidirectional (None, 128)               66048     \n_________________________________________________________________\ndense (Dense)                (None, 64)                8256      \n_________________________________________________________________\ndense_1 (Dense)              (None, 1)                 65        \n=================================================================\nTotal params: 633,921\nTrainable params: 633,921\nNon-trainable params: 0\n_________________________________________________________________\n"
        }
      ]
    },
    {
      "cell_type": "code",
      "metadata": {
        "id": "q_RuMEbRXvpT",
        "colab_type": "code",
        "colab": {}
      },
      "source": [
        "model.compile(optimizer='adam',\n",
        "              loss=tf.keras.losses.BinaryCrossentropy(),\n",
        "              metrics=['accuracy'])"
      ],
      "execution_count": 18,
      "outputs": []
    },
    {
      "cell_type": "code",
      "metadata": {
        "id": "JPMK7qvgYJFJ",
        "colab_type": "code",
        "colab": {},
        "tags": []
      },
      "source": [
        "model.fit(train_data, epochs=3, validation_data=test_data)"
      ],
      "execution_count": 19,
      "outputs": [
        {
          "output_type": "stream",
          "name": "stdout",
          "text": "Epoch 1/3\n66/66 [==============================] - 7s 106ms/step - loss: 0.3215 - accuracy: 0.8847 - val_loss: 0.0975 - val_accuracy: 0.9734\nEpoch 2/3\n66/66 [==============================] - 4s 65ms/step - loss: 0.0457 - accuracy: 0.9873 - val_loss: 0.0464 - val_accuracy: 0.9856\nEpoch 3/3\n66/66 [==============================] - 4s 65ms/step - loss: 0.0160 - accuracy: 0.9957 - val_loss: 0.0447 - val_accuracy: 0.9885\n"
        },
        {
          "output_type": "execute_result",
          "data": {
            "text/plain": "<tensorflow.python.keras.callbacks.History at 0x1e1d8536d60>"
          },
          "metadata": {},
          "execution_count": 19
        }
      ]
    },
    {
      "cell_type": "code",
      "metadata": {
        "id": "J9tD9yACG6M9",
        "colab_type": "code",
        "colab": {},
        "tags": []
      },
      "source": [
        "# function to predict messages based on model\n",
        "# (should return list containing prediction and label, ex. [0.008318834938108921, 'ham'])\n",
        "def predict_message(pred_text):\n",
        "  encoded_text = encoder.encode(pred_text)\n",
        "  pred = model.predict([encoded_text])[0][0]\n",
        "  label = 'ham'\n",
        "  if pred > 0.5:\n",
        "    label = 'spam'\n",
        "\n",
        "  return [pred, label]\n",
        "\n",
        "pred_text = \"how are you doing today\"\n",
        "\n",
        "prediction = predict_message(pred_text)\n",
        "print(prediction)"
      ],
      "execution_count": 20,
      "outputs": [
        {
          "output_type": "stream",
          "name": "stdout",
          "text": "[0.1017605, 'ham']\n"
        }
      ]
    },
    {
      "cell_type": "code",
      "metadata": {
        "id": "Dxotov85SjsC",
        "colab_type": "code",
        "colab": {},
        "tags": []
      },
      "source": [
        "# Run this cell to test your function and model. Do not modify contents.\n",
        "def test_predictions():\n",
        "  test_messages = [\"how are you doing today\",\n",
        "                   \"sale today! to stop texts call 98912460324\",\n",
        "                   \"i dont want to go. can we try it a different day? available sat\",\n",
        "                   \"our new mobile video service is live. just install on your phone to start watching.\",\n",
        "                   \"you have won £1000 cash! call to claim your prize.\",\n",
        "                   \"i'll bring it tomorrow. don't forget the milk.\",\n",
        "                   \"wow, is your arm alright. that happened to me one time too\"\n",
        "                  ]\n",
        "\n",
        "  test_answers = [\"ham\", \"spam\", \"ham\", \"spam\", \"spam\", \"ham\", \"ham\"]\n",
        "  passed = True\n",
        "\n",
        "  for msg, ans in zip(test_messages, test_answers):\n",
        "    prediction = predict_message(msg)\n",
        "    if prediction[1] != ans:\n",
        "      passed = False\n",
        "\n",
        "  if passed:\n",
        "    print(\"You passed the challenge. Great job!\")\n",
        "  else:\n",
        "    print(\"You haven't passed yet. Keep trying.\")\n",
        "\n",
        "test_predictions()\n"
      ],
      "execution_count": 21,
      "outputs": [
        {
          "output_type": "stream",
          "name": "stdout",
          "text": "You passed the challenge. Great job!\n"
        }
      ]
    }
  ]
}