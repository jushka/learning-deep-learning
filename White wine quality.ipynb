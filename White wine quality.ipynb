{
 "cells": [
  {
   "cell_type": "code",
   "execution_count": 1,
   "metadata": {},
   "outputs": [],
   "source": [
    "import numpy as np\n",
    "from tensorflow import keras\n",
    "from tensorflow.keras.utils import to_categorical\n",
    "from tensorflow.keras.callbacks import EarlyStopping"
   ]
  },
  {
   "cell_type": "code",
   "execution_count": 2,
   "metadata": {},
   "outputs": [],
   "source": [
    "features = np.loadtxt('winequality-white.csv', delimiter=';', skiprows=1, usecols=(0, 1, 2, 3, 4, 5, 6, 7, 8, 9, 10))"
   ]
  },
  {
   "cell_type": "code",
   "execution_count": 3,
   "metadata": {},
   "outputs": [],
   "source": [
    "quality = np.loadtxt('winequality-white.csv', delimiter=';', skiprows=1, usecols=11)\n",
    "quality_cat = to_categorical(quality, num_classes=11)"
   ]
  },
  {
   "cell_type": "code",
   "execution_count": 4,
   "metadata": {},
   "outputs": [],
   "source": [
    "n_cols = features.shape[1]"
   ]
  },
  {
   "cell_type": "code",
   "execution_count": 5,
   "metadata": {},
   "outputs": [],
   "source": [
    "model = keras.Sequential()"
   ]
  },
  {
   "cell_type": "code",
   "execution_count": 6,
   "metadata": {},
   "outputs": [],
   "source": [
    "model.add(keras.layers.Dense(200, activation='relu', input_shape=(n_cols,)))\n",
    "model.add(keras.layers.Dense(100, activation='relu'))\n",
    "model.add(keras.layers.Dense(11, activation='softmax'))"
   ]
  },
  {
   "cell_type": "code",
   "execution_count": 7,
   "metadata": {},
   "outputs": [],
   "source": [
    "model.compile(optimizer='adam', loss='categorical_crossentropy', metrics=['accuracy'])"
   ]
  },
  {
   "cell_type": "code",
   "execution_count": 8,
   "metadata": {},
   "outputs": [
    {
     "name": "stdout",
     "output_type": "stream",
     "text": [
      "Model: \"sequential\"\n",
      "_________________________________________________________________\n",
      "Layer (type)                 Output Shape              Param #   \n",
      "=================================================================\n",
      "dense (Dense)                (None, 200)               2400      \n",
      "_________________________________________________________________\n",
      "dense_1 (Dense)              (None, 100)               20100     \n",
      "_________________________________________________________________\n",
      "dense_2 (Dense)              (None, 11)                1111      \n",
      "=================================================================\n",
      "Total params: 23,611\n",
      "Trainable params: 23,611\n",
      "Non-trainable params: 0\n",
      "_________________________________________________________________\n"
     ]
    }
   ],
   "source": [
    "model.summary()"
   ]
  },
  {
   "cell_type": "code",
   "execution_count": 9,
   "metadata": {},
   "outputs": [],
   "source": [
    "early_stopping_monitor = EarlyStopping(patience=3)"
   ]
  },
  {
   "cell_type": "code",
   "execution_count": 10,
   "metadata": {},
   "outputs": [
    {
     "name": "stdout",
     "output_type": "stream",
     "text": [
      "Epoch 1/20\n",
      "62/62 [==============================] - 0s 6ms/step - loss: 3.1862 - accuracy: 0.3566 - val_loss: 1.2647 - val_accuracy: 0.4388\n",
      "Epoch 2/20\n",
      "62/62 [==============================] - 0s 2ms/step - loss: 1.3495 - accuracy: 0.4076 - val_loss: 1.2028 - val_accuracy: 0.5000\n",
      "Epoch 3/20\n",
      "62/62 [==============================] - 0s 3ms/step - loss: 1.3545 - accuracy: 0.4079 - val_loss: 1.2369 - val_accuracy: 0.5306\n",
      "Epoch 4/20\n",
      "62/62 [==============================] - 0s 3ms/step - loss: 1.3569 - accuracy: 0.4150 - val_loss: 1.1638 - val_accuracy: 0.5286\n",
      "Epoch 5/20\n",
      "62/62 [==============================] - 0s 3ms/step - loss: 1.3128 - accuracy: 0.4321 - val_loss: 1.1983 - val_accuracy: 0.5153\n",
      "Epoch 6/20\n",
      "62/62 [==============================] - 0s 3ms/step - loss: 1.2656 - accuracy: 0.4497 - val_loss: 1.1281 - val_accuracy: 0.5031\n",
      "Epoch 7/20\n",
      "62/62 [==============================] - 0s 3ms/step - loss: 1.2993 - accuracy: 0.4324 - val_loss: 1.1279 - val_accuracy: 0.5235\n",
      "Epoch 8/20\n",
      "62/62 [==============================] - 0s 3ms/step - loss: 1.2776 - accuracy: 0.4390 - val_loss: 1.1379 - val_accuracy: 0.5204\n",
      "Epoch 9/20\n",
      "62/62 [==============================] - 0s 3ms/step - loss: 1.2658 - accuracy: 0.4357 - val_loss: 1.1650 - val_accuracy: 0.4918\n",
      "Epoch 10/20\n",
      "62/62 [==============================] - 0s 3ms/step - loss: 1.2703 - accuracy: 0.4408 - val_loss: 1.1948 - val_accuracy: 0.5092\n"
     ]
    },
    {
     "data": {
      "text/plain": [
       "<tensorflow.python.keras.callbacks.History at 0x1acfb325a90>"
      ]
     },
     "execution_count": 10,
     "metadata": {},
     "output_type": "execute_result"
    }
   ],
   "source": [
    "model.fit(features, quality_cat, epochs=20, validation_split=0.2, batch_size=64, callbacks=[early_stopping_monitor])"
   ]
  },
  {
   "cell_type": "code",
   "execution_count": 11,
   "metadata": {},
   "outputs": [],
   "source": [
    "model2 = keras.Sequential()"
   ]
  },
  {
   "cell_type": "code",
   "execution_count": 12,
   "metadata": {},
   "outputs": [],
   "source": [
    "model2.add(keras.layers.Dense(100, activation='relu', input_shape=(n_cols,)))\n",
    "model2.add(keras.layers.Dense(100, activation='relu'))\n",
    "model2.add(keras.layers.Dense(1, activation='relu'))"
   ]
  },
  {
   "cell_type": "code",
   "execution_count": 13,
   "metadata": {},
   "outputs": [],
   "source": [
    "model2.compile(optimizer='adam', loss='mse', metrics=['accuracy'])"
   ]
  },
  {
   "cell_type": "code",
   "execution_count": 14,
   "metadata": {},
   "outputs": [
    {
     "name": "stdout",
     "output_type": "stream",
     "text": [
      "Model: \"sequential_1\"\n",
      "_________________________________________________________________\n",
      "Layer (type)                 Output Shape              Param #   \n",
      "=================================================================\n",
      "dense_3 (Dense)              (None, 100)               1200      \n",
      "_________________________________________________________________\n",
      "dense_4 (Dense)              (None, 100)               10100     \n",
      "_________________________________________________________________\n",
      "dense_5 (Dense)              (None, 1)                 101       \n",
      "=================================================================\n",
      "Total params: 11,401\n",
      "Trainable params: 11,401\n",
      "Non-trainable params: 0\n",
      "_________________________________________________________________\n"
     ]
    }
   ],
   "source": [
    "model2.summary()"
   ]
  },
  {
   "cell_type": "code",
   "execution_count": 15,
   "metadata": {},
   "outputs": [],
   "source": [
    "# model2.fit(features, quality, epochs=20, validation_split=0.2, batch_size=64)"
   ]
  },
  {
   "cell_type": "code",
   "execution_count": null,
   "metadata": {},
   "outputs": [],
   "source": []
  }
 ],
 "metadata": {
  "kernelspec": {
   "display_name": "Python 3",
   "language": "python",
   "name": "python3"
  },
  "language_info": {
   "codemirror_mode": {
    "name": "ipython",
    "version": 3
   },
   "file_extension": ".py",
   "mimetype": "text/x-python",
   "name": "python",
   "nbconvert_exporter": "python",
   "pygments_lexer": "ipython3",
   "version": "3.8.3"
  }
 },
 "nbformat": 4,
 "nbformat_minor": 4
}
