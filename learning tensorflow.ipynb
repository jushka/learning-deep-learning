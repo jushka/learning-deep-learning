{
 "metadata": {
  "language_info": {
   "codemirror_mode": {
    "name": "ipython",
    "version": 3
   },
   "file_extension": ".py",
   "mimetype": "text/x-python",
   "name": "python",
   "nbconvert_exporter": "python",
   "pygments_lexer": "ipython3",
   "version": "3.8.3-final"
  },
  "orig_nbformat": 2,
  "kernelspec": {
   "name": "python_defaultSpec_1597659843777",
   "display_name": "Python 3.8.3 64-bit ('base': conda)"
  }
 },
 "nbformat": 4,
 "nbformat_minor": 2,
 "cells": [
  {
   "cell_type": "code",
   "execution_count": 27,
   "metadata": {},
   "outputs": [],
   "source": [
    "import tensorflow as tf\n",
    "import tensorflow.compat.v2.feature_column as fc\n",
    "import pandas as pd\n",
    "from sklearn.model_selection import train_test_split"
   ]
  },
  {
   "cell_type": "code",
   "execution_count": 2,
   "metadata": {},
   "outputs": [],
   "source": [
    "test = tf.Variable([[45, 28], [27, 5], [78, 7]], tf.int32)"
   ]
  },
  {
   "cell_type": "code",
   "execution_count": 20,
   "metadata": {
    "tags": []
   },
   "outputs": [
    {
     "output_type": "stream",
     "name": "stdout",
     "text": "tf.Tensor(2, shape=(), dtype=int32)\n"
    }
   ],
   "source": [
    "print(tf.rank(test))"
   ]
  },
  {
   "cell_type": "code",
   "execution_count": 19,
   "metadata": {
    "tags": []
   },
   "outputs": [
    {
     "output_type": "stream",
     "name": "stdout",
     "text": "(3, 2)\n"
    }
   ],
   "source": [
    "print(test.shape)"
   ]
  },
  {
   "cell_type": "code",
   "execution_count": 21,
   "metadata": {
    "tags": []
   },
   "outputs": [
    {
     "output_type": "stream",
     "name": "stdout",
     "text": "tf.Tensor(\n[[[[0. 0. 0.]\n   [0. 0. 0.]]\n\n  [[0. 0. 0.]\n   [0. 0. 0.]]\n\n  [[0. 0. 0.]\n   [0. 0. 0.]]]\n\n\n [[[0. 0. 0.]\n   [0. 0. 0.]]\n\n  [[0. 0. 0.]\n   [0. 0. 0.]]\n\n  [[0. 0. 0.]\n   [0. 0. 0.]]]], shape=(2, 3, 2, 3), dtype=float32)\n"
    }
   ],
   "source": [
    "test2 = tf.zeros([2, 3, 2, 3])\n",
    "print(test2)"
   ]
  },
  {
   "cell_type": "code",
   "execution_count": 22,
   "metadata": {
    "tags": []
   },
   "outputs": [
    {
     "output_type": "stream",
     "name": "stdout",
     "text": "tf.Tensor(\n[[0. 0. 0. 0. 0. 0.]\n [0. 0. 0. 0. 0. 0.]\n [0. 0. 0. 0. 0. 0.]\n [0. 0. 0. 0. 0. 0.]\n [0. 0. 0. 0. 0. 0.]\n [0. 0. 0. 0. 0. 0.]], shape=(6, 6), dtype=float32)\n"
    }
   ],
   "source": [
    "test3 = tf.reshape(test2, [6, -1])\n",
    "print(test3)"
   ]
  },
  {
   "cell_type": "code",
   "execution_count": 33,
   "metadata": {},
   "outputs": [],
   "source": [
    "cars = pd.read_csv('cars.csv')\n",
    "cars = cars.drop(['Unnamed: 0'], axis=1)"
   ]
  },
  {
   "cell_type": "code",
   "execution_count": 40,
   "metadata": {},
   "outputs": [
    {
     "output_type": "execute_result",
     "data": {
      "text/plain": "                                     name     gearbox       fuel mfd_date  \\\n0  Volkswagen Passat, 2.0 l., universalas  Automatinė  Dyzelinas  2018-12   \n1  Volkswagen Passat, 1.9 l., universalas   Mechaninė  Dyzelinas  2002-11   \n2  Volkswagen Passat, 2.0 l., universalas   Mechaninė  Dyzelinas  2006-12   \n3  Volkswagen Passat, 2.0 l., universalas   Mechaninė  Dyzelinas  2009-04   \n4  Volkswagen Passat, 2.0 l., universalas  Automatinė  Dyzelinas  2007-11   \n\n   mileage  power  price  year  \n0    18000    110  16999  2018  \n1   295100     74   1400  2002  \n2   260800    103   3000  2006  \n3   297340    103   2700  2009  \n4   271200    103   2999  2007  ",
      "text/html": "<div>\n<style scoped>\n    .dataframe tbody tr th:only-of-type {\n        vertical-align: middle;\n    }\n\n    .dataframe tbody tr th {\n        vertical-align: top;\n    }\n\n    .dataframe thead th {\n        text-align: right;\n    }\n</style>\n<table border=\"1\" class=\"dataframe\">\n  <thead>\n    <tr style=\"text-align: right;\">\n      <th></th>\n      <th>name</th>\n      <th>gearbox</th>\n      <th>fuel</th>\n      <th>mfd_date</th>\n      <th>mileage</th>\n      <th>power</th>\n      <th>price</th>\n      <th>year</th>\n    </tr>\n  </thead>\n  <tbody>\n    <tr>\n      <th>0</th>\n      <td>Volkswagen Passat, 2.0 l., universalas</td>\n      <td>Automatinė</td>\n      <td>Dyzelinas</td>\n      <td>2018-12</td>\n      <td>18000</td>\n      <td>110</td>\n      <td>16999</td>\n      <td>2018</td>\n    </tr>\n    <tr>\n      <th>1</th>\n      <td>Volkswagen Passat, 1.9 l., universalas</td>\n      <td>Mechaninė</td>\n      <td>Dyzelinas</td>\n      <td>2002-11</td>\n      <td>295100</td>\n      <td>74</td>\n      <td>1400</td>\n      <td>2002</td>\n    </tr>\n    <tr>\n      <th>2</th>\n      <td>Volkswagen Passat, 2.0 l., universalas</td>\n      <td>Mechaninė</td>\n      <td>Dyzelinas</td>\n      <td>2006-12</td>\n      <td>260800</td>\n      <td>103</td>\n      <td>3000</td>\n      <td>2006</td>\n    </tr>\n    <tr>\n      <th>3</th>\n      <td>Volkswagen Passat, 2.0 l., universalas</td>\n      <td>Mechaninė</td>\n      <td>Dyzelinas</td>\n      <td>2009-04</td>\n      <td>297340</td>\n      <td>103</td>\n      <td>2700</td>\n      <td>2009</td>\n    </tr>\n    <tr>\n      <th>4</th>\n      <td>Volkswagen Passat, 2.0 l., universalas</td>\n      <td>Automatinė</td>\n      <td>Dyzelinas</td>\n      <td>2007-11</td>\n      <td>271200</td>\n      <td>103</td>\n      <td>2999</td>\n      <td>2007</td>\n    </tr>\n  </tbody>\n</table>\n</div>"
     },
     "metadata": {},
     "execution_count": 40
    }
   ],
   "source": [
    "cars['year'] = cars['mfd_date'].apply(lambda x: int(x[:4]))\n",
    "cars = cars[cars['mileage'] <= 500000]\n",
    "cars = cars[((cars['mileage'] < 10000) & (cars['price'] > 5000)) | (cars['mileage'] > 10000)]\n",
    "cars.head()"
   ]
  },
  {
   "cell_type": "code",
   "execution_count": 41,
   "metadata": {},
   "outputs": [],
   "source": [
    "features = cars[['mileage', 'power', 'year', 'gearbox']]\n",
    "prices = cars['price']"
   ]
  },
  {
   "cell_type": "code",
   "execution_count": 43,
   "metadata": {},
   "outputs": [],
   "source": [
    "X_train, X_test, y_train, y_test = train_test_split(features, prices, test_size=0.2, random_state=1)"
   ]
  },
  {
   "cell_type": "code",
   "execution_count": 47,
   "metadata": {},
   "outputs": [],
   "source": [
    "categorical_columns = ['gearbox']\n",
    "numeric_columns = ['mileage', 'power', 'year']\n",
    "\n",
    "feature_columns = []\n",
    "for feature_name in categorical_columns:\n",
    "    vocabulary = X_train[feature_name].unique()\n",
    "    feature_columns.append(tf.feature_column.categorical_column_with_vocabulary_list(feature_name, vocabulary))\n",
    "\n",
    "for feature_name in numeric_columns:\n",
    "    feature_columns.append(tf.feature_column.numeric_column(feature_name, dtype=tf.int32))"
   ]
  },
  {
   "cell_type": "code",
   "execution_count": null,
   "metadata": {},
   "outputs": [],
   "source": []
  }
 ]
}